{
 "cells": [
  {
   "cell_type": "code",
   "execution_count": 18,
   "metadata": {},
   "outputs": [],
   "source": [
    "# imports\n",
    "import sys, os\n",
    "import numpy as np\n",
    "from numpy import array"
   ]
  },
  {
   "cell_type": "code",
   "execution_count": 37,
   "metadata": {},
   "outputs": [],
   "source": [
    "# input values from Whit's code B1DetectorConstruction.hh\n",
    "# !!! ALL ARE IN UNITS OF CM !!!\n",
    "world_x = 300\n",
    "world_y = 300        \n",
    "world_z = 300        \n",
    "radiator_thickness = 0.60       \n",
    "radiator_collimator_gap = 0.10       # // ?\n",
    "collimator_OD = 4.0 * 2.54  \n",
    "collimator_ID = 0.315 * 2.54\n",
    "collimator_z_end = 0.0      \n",
    "collimator_length = 6.0 * 2.54  \n",
    "collimator_target_center_gap = 4.0       \n",
    "collimator_chamber_port_gap = 0.20       # // ?\n",
    "chamber_port_length = 15.24 \n",
    "chamber_port_flange_length =  7.62 \n",
    "chamber_port_flange_thickness = 2.54 \n",
    "chamber_flange_port_offset = 0.317 \n",
    "collimator_insert_length = 10.16 \n",
    "flange_collimator_length = 10.0 \n",
    "steel_vessel_length = 30.48 \n",
    "steel_vessel_port_diameter = 15.875\n",
    "steel_vessel_height1 = 25.40 \n",
    "steel_vessel_height2 = 40.64\n",
    "steel_vessel_port_top_offset = 4.762 \n",
    "glass_cell_OD = 3.810\n",
    "glass_cell_ID = 3.607\n",
    "glass_cell_tube_height = 1.905\n",
    "glass_cell_total_height = 10.153\n",
    "glass_cell_height_to_tube = 6.343\n",
    "glass_cell_vertical_offset = 0.8888\n",
    "chamber_photon_dump_sep = 30.0 * 2.54\n",
    "beampipe_length = 50.0\n",
    "beampipe_diameter = 8.0 \n",
    "radiator_diameter = 8.0  \n",
    "scoring_diameter = 1.5 * 2.54 \n",
    "scoring_length = 0.001 \n",
    "window_diameter = 1.0  \n",
    "window_thickness = 0.80  \n",
    "scoring2_diameter = 1.5 * 2.54 \n",
    "scoring2_length = 0.001 "
   ]
  },
  {
   "cell_type": "code",
   "execution_count": 55,
   "metadata": {},
   "outputs": [],
   "source": [
    "### Calculate positions from Whit's code B1DetectorConstruction.cc\n",
    "\n",
    "beampipe_pos = array([[0],[0],[(-1 * beampipe_length/2 - radiator_thickness/2)]])\n",
    "radiator_pos = array([[0],[0],[0]])\n",
    "collimator_pos = array([[0],[0],[(collimator_length/2 + radiator_thickness/2 + radiator_collimator_gap)]])\n",
    "collimator_z_end = (collimator_length + radiator_thickness/2 + radiator_collimator_gap)\n",
    "\n",
    "# Chamber port flange is the outer part that holds the port\n",
    "chamber_port_flange_pos = array([[0],[0],[(radiator_thickness/2 + radiator_collimator_gap + collimator_length + collimator_chamber_port_gap)]])\n",
    "chamber_port_flange_offset = array([[0],[0],[(0 * chamber_port_flange_length/2)]])\n",
    "\n",
    "# Chamber port is the part which has the window to the chamber and holds the insert\n",
    "chamber_port_pos = chamber_port_flange_pos + array([[0],[0],[(0 * chamber_flange_port_offset)]]) # the port face is recessed by a few mm from the flange face\n",
    "chamber_port_offset = array([[0],[0],[(0 * chamber_port_length/2)]])\n",
    "\n",
    "# The collimator insert\n",
    "insert_extra = np.abs(collimator_insert_length - flange_collimator_length) # +chamber_flange_port_offset\n",
    "port_collimator_pos = chamber_port_pos + array([[0],[0],[insert_extra/1.1]]) # insert almost all the way\n",
    "port_collimator_offset = array([[0],[0],[0.0 * collimator_insert_length/2.0]])\n",
    "\n",
    "steel_chamber_pos = chamber_port_flange_pos + array([[0],\n",
    "                           [steel_vessel_length/2.0 - steel_vessel_height2 + steel_vessel_port_top_offset + steel_vessel_port_diameter/2.0],\n",
    "                           [chamber_port_flange_thickness + steel_vessel_length]])\n",
    "steel_chamber_offset = array([[-1 * steel_vessel_length/2.0],[-1 * steel_vessel_length/2.0],[0]])\n",
    "\n",
    "exit_port_flange_pos = chamber_port_flange_pos + array([[0],[0],[steel_vessel_length + 2.0*chamber_port_flange_thickness]])\n",
    "exit_port_flange_offset = array([[0],[0],[0]])\n",
    "\n",
    "exit_port_collimator_pos = chamber_port_flange_pos + array([[0],[0],[steel_vessel_length + 2.0*chamber_port_flange_thickness]])\n",
    "exit_port_collimator_offset = array([[0],[0],[0]])\n",
    "\n",
    "glass_cell_pos = chamber_port_flange_pos + array([[0],[0],[chamber_port_flange_thickness + steel_vessel_length/2.0]])\n",
    "glass_cell_offset = array([[0],[glass_cell_vertical_offset - glass_cell_height_to_tube - glass_cell_tube_height/2.0],[0]])\n",
    "\n",
    "photon_dump_pos = glass_cell_pos + array([[0],[0],[chamber_photon_dump_sep]])\n",
    "photon_dump_offset = array([[0],[0],[0]])\n",
    "\n",
    "Pb_pig_pos = glass_cell_pos\n",
    "Pb_pig_offset = array([[55.90],[-41.40 - 5.20 - (36.70 - 5.2)/2.0],[0]])\n",
    "\n",
    "scoring_pos = array([[0],[0],[radiator_thickness/2.0 + radiator_collimator_gap/2.0]])\n",
    "window_pos = array([[0],[0],[collimator_z_end - window_thickness/2.0]])\n",
    "scoring2_pos = array([[0],[0],[collimator_z_end + collimator_target_center_gap]])"
   ]
  },
  {
   "cell_type": "code",
   "execution_count": 89,
   "metadata": {},
   "outputs": [
    {
     "name": "stdout",
     "output_type": "stream",
     "text": [
      "=========================================================================================\n",
      "beampipe_pos (G4Tubs) : [0.] [0.] [-25.3] cm\n",
      "radiator_pos (G4Tubs) : [0] [0] [0] cm\n",
      "collimator_pos (G4Tubs) : [0.] [0.] [8.02] cm\n",
      "chamber_port_flange_pos (plug_flange_beam_port_mod.ply) : [0.] [0.] [15.84] cm\n",
      "chamber_port_pos (internal_coll_and_port.ply) : [0.] [0.] [15.84] cm\n",
      "port_collimator_pos (collimator_silver_insert.ply) : not needed, removed\n",
      "steel_chamber_pos (steel_vessel.ply) : [-15.24] [-27.9405] [48.86] cm\n",
      "exit_port_flange_pos (beam_exit_flange.ply) : [0.] [0.] [51.4] cm\n",
      "exit_port_collimator_pos (beam_exit_port_and_collimator.ply) : [0.] [0.] [51.4] cm\n",
      "glass_cell_pos (glass_to_kovar_single_fluid.ply) [0.] [-6.4067] [33.62] cm\n",
      "photon_dump_pos (G4Box) : [0.] [0.] [109.82] cm\n",
      "Pb_pig_pos (Pb_pig.ply) : [55.9] [-62.35] [33.62] cm\n",
      "=========================================================================================\n"
     ]
    }
   ],
   "source": [
    "print(\"=========================================================================================\")\n",
    "print(\"beampipe_pos (G4Tubs) :\", *beampipe_pos, \"cm\")\n",
    "print(\"radiator_pos (G4Tubs) :\", *radiator_pos, \"cm\")\n",
    "print(\"collimator_pos (G4Tubs) :\", *collimator_pos, \"cm\")\n",
    "print(\"chamber_port_flange_pos (plug_flange_beam_port_mod.ply) :\", *chamber_port_flange_pos, \"cm\")\n",
    "print(\"chamber_port_pos (internal_coll_and_port.ply) :\", *chamber_port_pos, \"cm\")\n",
    "print(\"port_collimator_pos (collimator_silver_insert.ply) :\", \"not needed, removed\")\n",
    "print(\"steel_chamber_pos (steel_vessel.ply) :\", *(steel_chamber_pos + steel_chamber_offset), \"cm\")\n",
    "print(\"exit_port_flange_pos (beam_exit_flange.ply) :\", *exit_port_flange_pos, \"cm\")\n",
    "print(\"exit_port_collimator_pos (beam_exit_port_and_collimator.ply) :\", *exit_port_collimator_pos, \"cm\")\n",
    "print(\"glass_cell_pos (glass_to_kovar_single_fluid.ply)\", *(glass_cell_pos + glass_cell_offset), \"cm\")\n",
    "print(\"photon_dump_pos (G4Box) :\", *(photon_dump_pos + photon_dump_offset), \"cm\")\n",
    "print(\"Pb_pig_pos (Pb_pig.ply) :\", *(Pb_pig_pos + Pb_pig_offset), \"cm\")\n",
    "print(\"=========================================================================================\")"
   ]
  },
  {
   "cell_type": "code",
   "execution_count": null,
   "metadata": {},
   "outputs": [],
   "source": []
  }
 ],
 "metadata": {
  "kernelspec": {
   "display_name": "Python 3",
   "language": "python",
   "name": "python3"
  },
  "language_info": {
   "codemirror_mode": {
    "name": "ipython",
    "version": 3
   },
   "file_extension": ".py",
   "mimetype": "text/x-python",
   "name": "python",
   "nbconvert_exporter": "python",
   "pygments_lexer": "ipython3",
   "version": "3.8.3"
  }
 },
 "nbformat": 4,
 "nbformat_minor": 4
}
