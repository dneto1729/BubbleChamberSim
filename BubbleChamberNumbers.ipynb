{
 "cells": [
  {
   "cell_type": "code",
   "execution_count": 10,
   "id": "d84a4ab7-7820-47f9-bf2f-1cfe02f0911e",
   "metadata": {},
   "outputs": [],
   "source": [
    "# Notebook to compute some numbers for JLab bubble chamber experiment\n",
    "# author: David Neto, UIC\n",
    "# \n",
    "\n",
    "# initialize\n",
    "import sys\n",
    "import os\n",
    "import numpy as np\n",
    "from scipy import constants"
   ]
  },
  {
   "cell_type": "markdown",
   "id": "5ec45c03-6fb9-4b21-a9d1-bac8316dedaf",
   "metadata": {},
   "source": [
    "## Oil and Glass Cell composition\n",
    "\n",
    "The glass cell which contains the active fluid is made of borosillicate glass. While true composition of the glass is unknown. The glass cell is a Chemglass pressure vessel item number CG-1880-01. Based on its designed purpose as a pressure vessel we can assume a composition of\n",
    "- 75% SiO2\n",
    "- 10% B2O2\n",
    "- 6% Na2O or K2O\n",
    "- 4% Al2O3\n",
    "- 5% trace others\n",
    "\n",
    "We also assume it has the typical density of borosillicate glass which is a density ~ 2.23 g/cm$^{3}$\n",
    "\n",
    "\n",
    "The oil surrounding the glass cell is mineral oil from Duratherm product code DURATHERM 450 FG and is purpose designed as a heat transfer fluid. There is no \"canonical\" composition of mineral oil (it is usually defined as some mix of aromatic and long-chain hydrocarbons) but in dark matter experiments they typically define mineral oil as having a composition of 86.1% Carbon 13.9% Hydrogen by mass. The typically quoted value for the density of minearl oil is ~ 0.87 g/cm$^{3}$, though this does depend slightly on composition."
   ]
  },
  {
   "cell_type": "code",
   "execution_count": 11,
   "id": "64b8425d-60b6-42c7-9dd1-c7a31bcfb6a3",
   "metadata": {},
   "outputs": [
    {
     "name": "stdout",
     "output_type": "stream",
     "text": [
      "====================================================================================\n",
      "Collimator acceptance area = 0.50 cm^2\n",
      "Oil volume in front of glass cell = 0.05 cm^3\n",
      "====================================================================================\n",
      "Number of Hydrogen in front of glass cell =  3.55e+20 per cm^2\n",
      "Number of Deuterium in front of glass cell =  7.81e+16 per cm^2\n",
      "====================================================================================\n",
      "Number of Carbon in front of glass cell =  1.84e+20 per cm^2\n",
      "Number of Carbon-13 in front of glass cell =  2.03e+18 per cm^2\n",
      "====================================================================================\n",
      "Number of Oxygen in glass cell in Collimator acceptance area =  2.26e+20 per cm^2\n",
      "Number of Oxygen-17 in glass cell in Collimator acceptance area =  9.03e+16 per cm^2\n",
      "====================================================================================\n"
     ]
    }
   ],
   "source": [
    "# Factors to account for \"density\" of 2H, 13C and 17O in the gamma beam path\n",
    "\n",
    "collimator_radius = 0.8001 / 2 # cm\n",
    "beam_area = np.pi * collimator_radius * collimator_radius # cm^2\n",
    "\n",
    "print('====================================================================================')\n",
    "print('Collimator acceptance area =',\"{:.2f}\".format(beam_area),'cm^2')\n",
    "\n",
    "# Deuterium - In the oil outside the glass cell\n",
    "\n",
    "H2_abundance = 0.00022\n",
    "\n",
    "oil_thickness = 0.1 # cm ! assumed for now\n",
    "oil_rho = 0.85 # g / cm^3 @ 20 C ! add temp dependence latter if needed\n",
    "oil_mol_weight = 452.363 # g/mol\n",
    "\n",
    "oil_volume = beam_area * oil_thickness # cm^3\n",
    "oil_mass = oil_rho * oil_volume # g\n",
    "hydrogen_mass = oil_mass * 0.139 # g\n",
    "hydrogen_number = hydrogen_mass * np.power(1.00784, -1) * scipy.constants.N_A # number of hydrogen in oil_volume\n",
    "hydrogen_number_density = hydrogen_number * oil_thickness # number of hydrogen per cm^2\n",
    "\n",
    "print('Oil volume in front of glass cell =',\"{:.2f}\".format(oil_volume),'cm^3')\n",
    "print('====================================================================================')\n",
    "print('Number of Hydrogen in front of glass cell = ',\"{:.2e}\".format(hydrogen_number_density),'per cm^2')\n",
    "print('Number of Deuterium in front of glass cell = ',\"{:.2e}\".format(hydrogen_number_density * H2_abundance),'per cm^2')\n",
    "print('====================================================================================')\n",
    "\n",
    "# Carbon-13 - This is in both the oil and the active fluid\n",
    "\n",
    "C13_abundance = 0.011\n",
    "\n",
    "carbon_mass = oil_mass * 0.861 # g\n",
    "carbon_number = carbon_mass * np.power(12.0107, -1) * scipy.constants.N_A # number of carbon in oil_volume\n",
    "carbon_number_density = carbon_number * oil_thickness # number of carbon per cm^2\n",
    "\n",
    "print('Number of Carbon in front of glass cell = ',\"{:.2e}\".format(carbon_number_density),'per cm^2')\n",
    "print('Number of Carbon-13 in front of glass cell = ',\"{:.2e}\".format(carbon_number_density * C13_abundance),'per cm^2')\n",
    "print('====================================================================================')\n",
    "\n",
    "cell_half_thickness = 0.0 # cm -  assume if neutron is made in back half of cell it probably will not create bubble\n",
    "active_fluid_rho = 1.35 # g / cm^3 - assumed for avg temp and pressure of bubble cell\n",
    "\n",
    "# Oxygen-17 - In the glass cell\n",
    "\n",
    "O17_abundance = 0.0004\n",
    "\n",
    "glass_thickness = 0.102 # cm\n",
    "glass_rho = 2.23 # g / cm^3\n",
    "glass_mol_weight = (1/5)*((60.08/0.75) + \\\n",
    "                   (53.63/0.10) + \\\n",
    "                   (np.average([61.9789, 94.2])/0.06) + \\\n",
    "                   (101.96/0.04) + \\\n",
    "                   (np.average([60.08, 53.63, 61.9789, 94.2, 101.96])/0.05))  # g/mol\n",
    "glass_volume = beam_area * glass_thickness # cm^3\n",
    "glass_mass = glass_rho * glass_volume # g\n",
    "\n",
    "oxygen_mass = glass_mass * 0.514 # g ! mass frac from calculation\n",
    "oxygen_number = oxygen_mass * np.power(15.999, -1) * scipy.constants.N_A # number of carbon in oil_volume\n",
    "oxygen_number_density = oxygen_number * glass_thickness # number of carbon per cm^2\n",
    "\n",
    "print('Number of Oxygen in glass cell in Collimator acceptance area = ',\"{:.2e}\".format(oxygen_number_density),'per cm^2')\n",
    "print('Number of Oxygen-17 in glass cell in Collimator acceptance area = ',\"{:.2e}\".format(oxygen_number_density * O17_abundance),'per cm^2')\n",
    "print('====================================================================================')"
   ]
  },
  {
   "cell_type": "code",
   "execution_count": null,
   "id": "230d0ede-f2e1-4db6-a5fe-c640611c0153",
   "metadata": {},
   "outputs": [],
   "source": []
  }
 ],
 "metadata": {
  "kernelspec": {
   "display_name": "Python 3 (ipykernel)",
   "language": "python",
   "name": "python3"
  },
  "language_info": {
   "codemirror_mode": {
    "name": "ipython",
    "version": 3
   },
   "file_extension": ".py",
   "mimetype": "text/x-python",
   "name": "python",
   "nbconvert_exporter": "python",
   "pygments_lexer": "ipython3",
   "version": "3.7.3"
  }
 },
 "nbformat": 4,
 "nbformat_minor": 5
}
